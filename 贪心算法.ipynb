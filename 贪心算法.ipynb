{
 "cells": [
  {
   "cell_type": "markdown",
   "metadata": {},
   "source": [
    "# 大纲\n",
    "\n",
    "- [ ] 贪心算法模板\n",
    "- [ ] 贪心算法典型场景\n",
    "- [ ] 时空复杂度\n",
    "- [ ] 和其他算法的比较"
   ]
  },
  {
   "cell_type": "markdown",
   "metadata": {},
   "source": [
    "# Leetcode例题\n",
    "\n",
    "\n",
    "- [(medium)11 Container With Most Water](https://leetcode-cn.com/problems/container-with-most-water/)\n",
    "- [(easy)553 Optimal Division](https://leetcode-cn.com/problems/optimal-division/)\n",
    "- [(easy)942 Di String Match](https://leetcode.cn/problems/di-string-match/)\n",
    "- [(medium)1218 Longest Arithmetic Subsequence of Given Difference](https://leetcode-cn.com/problems/longest-arithmetic-subsequence-of-given-difference/)\n",
    "- [(medium)1708 Maximum Number of Eaten Apples](https://leetcode-cn.com/problems/maximum-number-of-eaten-apples/)\n",
    "- [(hard)1713 Minimum Operations to Make a Subsequence](https://leetcode-cn.com/problems/minimum-operations-to-make-a-subsequence/)\n",
    "- [(easy)1736 Latest Time by Replacing Hidden Digits](https://leetcode-cn.com/problems/latest-time-by-replacing-hidden-digits/)\n",
    "- [(medium)1833 Maximum Ice-cream Bars](https://leetcode-cn.com/problems/maximum-ice-cream-bars/)\n",
    "- [(medium)1846 Maximum Element After Decreasing and Rearranging](https://leetcode-cn.com/problems/maximum-element-after-decreasing-and-rearranging/)\n",
    "- [(medium)1817 Minimize Maximum Pair Sum in Array](https://leetcode-cn.com/problems/minimize-maximum-pair-sum-in-array/)\n",
    "\n"
   ]
  },
  {
   "cell_type": "markdown",
   "metadata": {},
   "source": [
    "# 我的总结\n"
   ]
  }
 ],
 "metadata": {
  "kernelspec": {
   "display_name": "Python 3",
   "language": "python",
   "name": "python3"
  },
  "language_info": {
   "codemirror_mode": {
    "name": "ipython",
    "version": 3
   },
   "file_extension": ".py",
   "mimetype": "text/x-python",
   "name": "python",
   "nbconvert_exporter": "python",
   "pygments_lexer": "ipython3",
   "version": "3.8.3"
  }
 },
 "nbformat": 4,
 "nbformat_minor": 4
}
