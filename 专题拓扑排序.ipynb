{
 "cells": [
  {
   "cell_type": "markdown",
   "metadata": {},
   "source": [
    "# 大纲\n",
    "\n",
    "典型场景\n",
    "\n",
    "模板\n",
    "\n",
    "精选例题+ follow up\n"
   ]
  },
  {
   "cell_type": "markdown",
   "metadata": {},
   "source": [
    "# Leetcode例题\n",
    "\n",
    "https://dowalle.gitbook.io/algo/algorithm/4-tu-lun/6-tuo-pu-pai-xu\n",
    "\n",
    "- [(medium)210 Course Schedule II](https://leetcode.cn/problems/course-schedule-ii/)\n",
    "- [(medium)207 Course Schedule](https://leetcode.cn/problems/course-schedule/)\n",
    "- [(medium)802 Find Eventual Safe States](https://leetcode.cn/problems/find-eventual-safe-states/)\n",
    "- [(medium)851 Loud And Rich](https://leetcode.cn/problems/loud-and-rich/)\n",
    "- [(medium)954 Array of Doubled Pairs](https://leetcode.cn/problems/array-of-doubled-pairs/)"
   ]
  }
 ],
 "metadata": {
  "kernelspec": {
   "display_name": "Python 3",
   "language": "python",
   "name": "python3"
  },
  "language_info": {
   "codemirror_mode": {
    "name": "ipython",
    "version": 3
   },
   "file_extension": ".py",
   "mimetype": "text/x-python",
   "name": "python",
   "nbconvert_exporter": "python",
   "pygments_lexer": "ipython3",
   "version": "3.8.3"
  }
 },
 "nbformat": 4,
 "nbformat_minor": 4
}
