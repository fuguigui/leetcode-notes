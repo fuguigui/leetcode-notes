{
 "cells": [
  {
   "cell_type": "markdown",
   "metadata": {},
   "source": [
    "# 大纲\n",
    "\n",
    "2022/06/05\n",
    "\n",
    "- [ ] 双指针模板\n",
    "- [ ] 双指针典型的应用场景\n",
    "    - [ ] 滑动窗口\n",
    "    - [ ] 快慢指针/环的问题\n",
    "    \n",
    "- 参考链接[labuladong](https://labuladong.github.io/algo/2/18/21/)"
   ]
  },
  {
   "cell_type": "markdown",
   "metadata": {},
   "source": [
    "# 理论知识点\n",
    "\n",
    "双指针技巧主要分为两类：左右指针和快慢指针。\n",
    "\n",
    "- 左右指针：就是两个指针相向而行或者相背而行；\n",
    "- 快慢指针，就是两个指针同向而行，一快一慢.\n",
    "    - 数组问题中比较常见的快慢指针技巧，是让你原地修改数组。\n",
    "    \n",
    "    - 滑动窗口算法的快慢指针特性：left 指针在后，right 指针在前，两个指针中间的部分就是「窗口」，算法通过扩大和缩小「窗口」来解决某些问题。\n"
   ]
  },
  {
   "cell_type": "markdown",
   "metadata": {},
   "source": [
    "# Leetcode例题\n",
    "\n",
    "## 快慢指针\n",
    "\n",
    "\n",
    "- [(easy)26 Remove Duplicates From Sorted Array](https://leetcode.cn/problems/remove-duplicates-from-sorted-array/)\n",
    "    - 思路：快指针遍历数组，慢指针指向无重复数组的最后一位，用于判断是否相同，或者添加新数。前提是：排好序了。否则的话，可以使用hashmap/hashset。如果已知数组值的范围的话，还可以使用一维数组，顺便把序也排了（哈希排序）。\n",
    "    \n",
    "- [(easy)27 Remove Element](https://leetcode.cn/problems/remove-element/)\n",
    "    - 思路：快慢指针。快指针遍历数组，慢指针指向下一个需要填充的位置。如果不等于val就填充进去，并后移一位。\n",
    "    \n",
    "    \n",
    "\n",
    "- [(medium)5 Longest Palindromic Substring](https://leetcode.cn/problems/longest-palindromic-substring/)\n",
    "- [(medium)3 Longest Substring Without Repeating Characters](https://leetcode.cn/problems/longest-substring-without-repeating-characters)"
   ]
  },
  {
   "cell_type": "code",
   "execution_count": null,
   "metadata": {},
   "outputs": [],
   "source": [
    "# 26: 快指针遍历数组，慢指针指向无重复数组的最后一位，用于判断是否相同，或者添加新数。 \n",
    "# 执行用时：32 ms, 在所有 Python3 提交中击败了98.12% 的用户\n",
    "# 内存消耗：16 MB, 在所有 Python3 提交中击败了71.99% 的用户\n",
    "class Solution:\n",
    "    def removeDuplicates(self, nums: List[int]) -> int:\n",
    "        last_id = 0\n",
    "        for num in nums:\n",
    "            if num != nums[last_id]:\n",
    "                last_id += 1\n",
    "                nums[last_id] = num\n",
    "        return last_id + 1"
   ]
  },
  {
   "cell_type": "code",
   "execution_count": null,
   "metadata": {},
   "outputs": [],
   "source": [
    "# 27\n",
    "class Solution:\n",
    "    def removeElement(self, nums: List[int], val: int) -> int:\n",
    "        last_id = 0\n",
    "        for num in nums:\n",
    "            if num != val:\n",
    "                nums[last_id] = num\n",
    "                last_id += 1\n",
    "        return last_id"
   ]
  },
  {
   "cell_type": "code",
   "execution_count": null,
   "metadata": {},
   "outputs": [],
   "source": [
    "# 5 从中间坐标开始枚举；分奇偶枚举\n",
    "class Solution:\n",
    "    def longestPalindrome(self, s: str) -> str:\n",
    "        max_len = 1\n",
    "        max_l = 0\n",
    "        max_r = 0\n",
    "        l = len(s)\n",
    "        for mid in range(l):\n",
    "            for i in range(1, l):\n",
    "                if mid - i < 0 or mid + i >= l or s[mid-i] != s[mid + i]:\n",
    "                    if 2 * i - 1 > max_len:\n",
    "                        max_l = mid - i + 1\n",
    "                        max_r = mid + i - 1\n",
    "                        max_len = 2 * i - 1\n",
    "                    break\n",
    "            if mid < l - 1 and s[mid] == s[mid + 1]:\n",
    "                for i in range(l):\n",
    "                    if mid - i < 0 or mid + 1 + i >= l or s[mid-i] != s[mid + 1 + i]:\n",
    "                        if 2 * i > max_len:\n",
    "                            max_l = mid - i + 1\n",
    "                            max_r = mid + i \n",
    "                            max_len = 2 * i\n",
    "                        break\n",
    "        return s[max_l : (max_r + 1)]\n"
   ]
  },
  {
   "cell_type": "markdown",
   "metadata": {},
   "source": [
    "\n",
    "\n",
    "## 滑动窗口\n",
    "\n",
    "- [(medium)3 Longest Substring Without Repeating Characters](https://leetcode.cn/problems/longest-substring-without-repeating-characters)\n",
    "- [(medium)396 Rotate Function](https://leetcode-cn.com/problems/rotate-function/)\n",
    "- [(easy)643 Maximum Average Subarray I](https://leetcode-cn.com/problems/maximum-average-subarray-i/)\n",
    "- [(easy)1984 Minimum Difference Highest and Lowest of K Scores](https://leetcode-cn.com/problems/minimum-difference-between-highest-and-lowest-of-k-scores/)\n",
    "- [(medium)567 Permutation in String](https://leetcode.cn/problems/permutation-in-string)\n",
    "- [(hard)480 Sliding Window Median](https://leetcode.cn/problems/sliding-window-median)\n",
    "- [(hard)76 Minimum Window Substring](https://leetcode.cn/problems/minimum-window-substring)\n",
    "- [(hard)239 Sliding Window Maximum](https://leetcode.cn/problems/sliding-window-maximum)\n",
    "- [(medium)978 Longest Turbulent Subarray](https://leetcode.cn/problems/longest-turbulent-subarray)\n",
    "- [(hard)992 Subarrys with K Different Integers](https://leetcode.cn/problems/subarrays-with-k-different-integers)\n",
    "- [(hard)995 Minimum Number of K Consecutive Bit Flips](https://leetcode.cn/problems/minimum-number-of-k-consecutive-bit-flips)\n",
    "\n",
    "## un categorized\n",
    "\n",
    "\n",
    "- [(medium)15 3 Sum](https://leetcode.cn/problems/3sum)\n",
    "- [(medium)16 3 Sum CLosest](https://leetcode.cn/problems/3sum-closest)\n",
    "- [(medium)18 4 Sum](https://leetcode.cn/problems/4sum)\n",
    "- [(hard)42 Trapping Rain Water](https://leetcode.cn/problems/trapping-rain-water)\n",
    "- [(medium)75 Sort Colors](https://leetcode.cn/problems/sort-colors)\n",
    "- [(medium)86 Partition List](https://leetcode.cn/problems/partition-list)\n",
    "- [(easy)88 Merge Sorted Array](https://leetcode.cn/problems/merge-sorted-array)\n",
    "- [(easy)141 Linked List Cycle](https://leetcode.cn/problems/linked-list-cycle)\n",
    "- [(medium)142 Linked List Cycle II](https://leetcode.cn/problems/linked-list-cycle-ii)\n",
    "- [(medium)287 Find the Duplicate Number](https://leetcode.cn/problems/find-the-duplicate-number)\n",
    "- [(medium)763 Partition Labels](https://leetcode.cn/problems/partition-labels)\n",
    "- [(medium)11 Container With Most Water](https://leetcode.cn/problems/container-with-most-water)\n",
    "- [(medium)19 Remove Nth Node From End of List](https://leetcode.cn/problems/remove-nth-node-from-end-of-list)\n",
    "- [(easy)1446 Consecutive Characters](https://leetcode.cn/problems/consecutive-characters)\n",
    "\n"
   ]
  },
  {
   "cell_type": "markdown",
   "metadata": {},
   "source": [
    "# 经验\n",
    "\n",
    "双指针滑动窗口的经典写法。右指针不断往右移，移动到不能往右移动为止(具体条件根据题目而定)。当右指针到最右边以后，开始挪动左指针，释放窗口左边界。第 3 题，第 76 题，第 209 题，第 424 题，第 438 题，第 567 题，第 713 题，第 763 题，第 845 题，第 881 题，第 904 题，第 978 题，第 992 题，第 1004 题，第 1040 题，第 1052 题。\n",
    "\n",
    "    快慢指针可以查找重复数字，时间复杂度 O(n)，第 287 题。\n",
    "    替换字母以后，相同字母能出现连续最长的长度。第 424 题。\n",
    "    SUM 问题集。第 1 题，第 15 题，第 16 题，第 18 题，第 167 题，第 923 题，第 1074 题。"
   ]
  }
 ],
 "metadata": {
  "kernelspec": {
   "display_name": "Python 3",
   "language": "python",
   "name": "python3"
  },
  "language_info": {
   "codemirror_mode": {
    "name": "ipython",
    "version": 3
   },
   "file_extension": ".py",
   "mimetype": "text/x-python",
   "name": "python",
   "nbconvert_exporter": "python",
   "pygments_lexer": "ipython3",
   "version": "3.8.3"
  }
 },
 "nbformat": 4,
 "nbformat_minor": 4
}
