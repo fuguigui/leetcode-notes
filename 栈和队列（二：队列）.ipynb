{
 "cells": [
  {
   "cell_type": "markdown",
   "metadata": {},
   "source": [
    "2022/05/14 - 05/15\n",
    "\n",
    "# 基本概念\n",
    "\n",
    "- 队列是什么？先进先出\n",
    "    - 基本操作：enqueue, head, tail, dequeue\n",
    "    - 判空\n",
    "    \n",
    "\n",
    "python中如何使用队列？\n",
    "- `from queue import Queue`: `Queue(), q.get(), q.put(val)`\n",
    "- or `from collections import deque`: `deque(), q.append(), q.popleft()`"
   ]
  },
  {
   "cell_type": "markdown",
   "metadata": {},
   "source": [
    "# 实现方法\n",
    "\n",
    "队列可用数组，或链表来实现。队列实现起来，需要维护头和尾两个信息。\n",
    "- [X] 循环队列：为什么要设计循环队列？为了减少队列头向后移动的时候，产生的空间浪费。\n",
    "- [X] 如何实现循环队列？参考下面代码队列2.0. 其中，需要维护头尾两个变量。重点：**判断空还是满的问题**：这里使用了一个额外的空间，判空是头==尾，判满是（尾+1） == 头。也可以使用一个额外的bool值，来标记上一步有没有填入数据。参考https://blog.csdn.net/u012864854/article/details/81562738\n",
    "- [X] 循环队列的优缺点？优点：减少了时间浪费；缺点，内存有限。如果增加resize操作的话，会在插入时额外带来时间开销，是原来size的线性关系\n",
    "- [X] 优先队列又是个啥？又叫做堆。下一个笔记重点学习。\n"
   ]
  },
  {
   "cell_type": "code",
   "execution_count": 5,
   "metadata": {},
   "outputs": [
    {
     "name": "stdout",
     "output_type": "stream",
     "text": [
      "True\n",
      "None\n",
      "None\n",
      "False\n",
      "1\n",
      "2\n",
      "0\n"
     ]
    }
   ],
   "source": [
    "# 方法1 python Queue\n",
    "from queue import Queue\n",
    "q = Queue() # 初始化\n",
    "\n",
    "print(q.empty())  # 判断是否为空\n",
    "print(q.put(1)) # 放入一个新的元素\n",
    "print(q.put(2)) # 放入一个新的元素\n",
    "print(q.empty())\n",
    "print(q.get()) # 获取队头元素\n",
    "print(q.get()) # 获取队头元素\n",
    "print(q.qsize()) # 获取队列大小"
   ]
  },
  {
   "cell_type": "code",
   "execution_count": 6,
   "metadata": {},
   "outputs": [
    {
     "name": "stdout",
     "output_type": "stream",
     "text": [
      "deque([[0, 1], [4, 2]])\n",
      "[0, 1]\n",
      "deque([[4, 2]])\n"
     ]
    }
   ],
   "source": [
    "# # 方法2 python deque \n",
    "from collections import deque\n",
    "\n",
    "q = deque([[0, 1]])\n",
    "q.append([4,2])\n",
    "print(q)\n",
    "front = q.popleft()\n",
    "print(front)\n",
    "print(q)"
   ]
  },
  {
   "cell_type": "markdown",
   "metadata": {},
   "source": [
    "`deque`类实现了一个双端队列，支持在时间（非均摊）从两端添加和移除元素。因为双端队列支持从两端添加和删除元素，所以既可以作为队列也可以作为栈(`q.pop()`)。\n",
    "\n",
    "Python的deque对象以双向链表实现，这为插入和删除元素提供了出色且一致的性能，但是随机访问位于栈中间元素的性能很差"
   ]
  },
  {
   "cell_type": "code",
   "execution_count": null,
   "metadata": {},
   "outputs": [],
   "source": [
    "# 队列实现1.0\n",
    "\n",
    "class Queue(object):\n",
    "    def __init__(self):\n",
    "        self.head = 0\n",
    "        self.vec = []\n",
    "        \n",
    "    def isEmpty(self):\n",
    "        return self.head == len(self.vec)\n",
    "    \n",
    "    def enqueue(self, num):\n",
    "        self.vec.append(num)\n",
    "        \n",
    "    def dequeue(self):\n",
    "        if self.isEmpty():\n",
    "            return False\n",
    "        num = self.vec[self.head]\n",
    "        self.head += 1\n",
    "        return num"
   ]
  },
  {
   "cell_type": "code",
   "execution_count": null,
   "metadata": {},
   "outputs": [],
   "source": [
    "# 队列实现2.0 循环队列\n",
    "\n",
    "class MyCircularQueue(object):\n",
    "    def __init__(self, k: int):\n",
    "        self.size = k + 1\n",
    "        self.vec = [None for _ in range(self.size)]\n",
    "        self.head = 0\n",
    "        self.tail = 0\n",
    "\n",
    "\n",
    "    def enQueue(self, value: int) -> bool:\n",
    "        if self.isFull():\n",
    "            return False\n",
    "        self.vec[self.tail] = value\n",
    "        self.tail = (self.tail + 1) % self.size\n",
    "        return True\n",
    "\n",
    "    def deQueue(self) -> bool:\n",
    "        if self.isEmpty():\n",
    "            return False\n",
    "        self.head = (self.head + 1) % self.size\n",
    "        return True\n",
    "\n",
    "    def Front(self) -> int:\n",
    "        if self.isEmpty():\n",
    "            return -1\n",
    "        return self.vec[self.head]\n",
    "\n",
    "\n",
    "    def Rear(self) -> int:\n",
    "        if self.isEmpty():\n",
    "            return -1\n",
    "        return self.vec[(self.tail-1)%self.size]\n",
    "\n",
    "\n",
    "    def isEmpty(self) -> bool:\n",
    "        return self.head == self.tail\n",
    "\n",
    "\n",
    "    def isFull(self) -> bool:\n",
    "        return (self.tail + 1) % self.size == self.head\n",
    "\n",
    "\n",
    "\n",
    "# Your MyCircularQueue object will be instantiated and called as such:\n",
    "# obj = MyCircularQueue(k)\n",
    "# param_1 = obj.enQueue(value)\n",
    "# param_2 = obj.deQueue()\n",
    "# param_3 = obj.Front()\n",
    "# param_4 = obj.Rear()\n",
    "# param_5 = obj.isEmpty()\n",
    "# param_6 = obj.isFull()"
   ]
  },
  {
   "cell_type": "markdown",
   "metadata": {},
   "source": [
    "# 时间空间复杂度\n",
    "\n",
    "队列：\n",
    "时间复杂度\n",
    "- enqueue：O(1)\n",
    "- dequeue：O(1)\n",
    "- head：O(1)\n",
    "- tail：O(1)\n",
    "\n",
    "空间复杂度O(N)"
   ]
  },
  {
   "cell_type": "markdown",
   "metadata": {},
   "source": [
    "\n",
    "# Leetcode例题\n",
    "\n",
    "\n",
    "- 双端队列\n",
    "    - [(hard)239滑动窗口最大值](https://leetcode.cn/problems/sliding-window-maximum/)\n",
    "\n",
    "- 循环队列\n",
    "\n",
    "- 链表\n",
    "\n",
    "\n",
    "- [(medium)341扁平化嵌套列表迭代器](https://leetcode.cn/problems/flatten-nested-list-iterator/)\n",
    "\n",
    "\n",
    "## 单调队列\n",
    "\n",
    "主要用于解决下面场景：\n",
    "给一个数组window，已知其最值为A\n",
    "- 如果给window添加一个数B，那么比较B和A，就可以立即得出新的最值。\n",
    "- 但如果从window中减少一个数，就不能直接得到最值了，因为如果减少的这个数恰好是A，就要遍历window中的所有元素重新寻找新的最值。\n",
    "\n",
    "- 堆可以维护大小顺序，但是无法维护元素进入的时间顺序\n",
    "- 单调队列：既能维护队列中所有元素的最值，又能维护“先进先出”的时间顺序。\n",
    "\n",
    "主要用来辅助解决**滑动窗口**相关的问题。"
   ]
  },
  {
   "cell_type": "markdown",
   "metadata": {},
   "source": [
    "# 经验总结\n",
    "\n",
    "队列主要用在BFS算法上。"
   ]
  },
  {
   "cell_type": "code",
   "execution_count": null,
   "metadata": {},
   "outputs": [],
   "source": []
  }
 ],
 "metadata": {
  "kernelspec": {
   "display_name": "Python 3",
   "language": "python",
   "name": "python3"
  },
  "language_info": {
   "codemirror_mode": {
    "name": "ipython",
    "version": 3
   },
   "file_extension": ".py",
   "mimetype": "text/x-python",
   "name": "python",
   "nbconvert_exporter": "python",
   "pygments_lexer": "ipython3",
   "version": "3.8.3"
  }
 },
 "nbformat": 4,
 "nbformat_minor": 4
}
