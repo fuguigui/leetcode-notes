{
 "cells": [
  {
   "cell_type": "markdown",
   "metadata": {},
   "source": [
    "# 大纲\n",
    "\n",
    "典型场景\n",
    "\n",
    "模板\n",
    "\n",
    "精选例题+ follow up"
   ]
  },
  {
   "cell_type": "markdown",
   "metadata": {},
   "source": [
    "# 精选例题\n",
    "\n",
    "## BFS\n",
    "\n",
    "\n",
    "## DFS\n",
    " \n",
    "- 🌟[(medium)99Recover Binary Search Tree](https://leetcode.cn/problems/recover-binary-search-tree/)\n",
    "    - 思路：DFS+中序遍历\n",
    "    \n",
    "- [(hard)297Serialize and Deserialize Binary Tree](https://leetcode-cn.com/problems/serialize-and-deserialize-binary-tree/)。主要思想用反序列化的方式来指导序列化。\n",
    "    - 思路一：序列化的时候用前序遍历，反序列化用DFS+括号匹配。括号匹配是用来寻找左子树的字符串和右子树的字符串，从而实现递归构造。时间复杂度平均状态下是nlogn的，每一步确定左右子串，需要遍历平均一半长度的序列化后的字符串，平均要遍历logn次。\n",
    "    - 思路二：反序列化直接遍历，用栈来存储当前需要构造子节点的节点。可以将时间复杂度降为n。具体细节为：\n",
    "        - 栈中存储的对象是[节点，状态]，节点表示当前需要构造左子节点或右子节点的节点，0表示需要构造左子节点，1表示需要构造右子节点。\n",
    "        - 对于遍历中的元素，需要做的操作是：\n",
    "            - 如果是空，就弹出栈顶元素，根据栈顶元素中的状态，将其作为栈顶元素的左或右子节点。\n",
    "                - 如果是作为左子节点，则重新将栈顶元素入栈，状态改为1\n",
    "                - 如果是作为右子节点，则将父节点作为新的子节点，继续出栈顶，重复添加子节点的操作。\n",
    "            - 如果非空，就新建一个节点，入栈，并将状态设置为0."
   ]
  },
  {
   "cell_type": "code",
   "execution_count": null,
   "metadata": {},
   "outputs": [],
   "source": []
  }
 ],
 "metadata": {
  "kernelspec": {
   "display_name": "Python 3",
   "language": "python",
   "name": "python3"
  },
  "language_info": {
   "codemirror_mode": {
    "name": "ipython",
    "version": 3
   },
   "file_extension": ".py",
   "mimetype": "text/x-python",
   "name": "python",
   "nbconvert_exporter": "python",
   "pygments_lexer": "ipython3",
   "version": "3.8.3"
  }
 },
 "nbformat": 4,
 "nbformat_minor": 4
}
