{
 "cells": [
  {
   "cell_type": "markdown",
   "metadata": {},
   "source": [
    "# 大纲\n",
    "\n",
    "典型场景\n",
    "\n",
    "模板\n",
    "\n",
    "精选例题+ follow up\n",
    "\n",
    "\n",
    "    灵活使用并查集的思想，熟练掌握并查集的 [模板](https://books.halfrost.com/leetcode/ChapterThree/UnionFind/)，模板中有两种并查集的实现方式，一种是路径压缩 + 秩优化的版本，另外一种是计算每个集合中元素的个数 + 最大集合元素个数的版本，这两种版本都有各自使用的地方。能使用第一类并查集模板的题目有：第 128 题，第 130 题，第 547 题，第 684 题，第 721 题，第 765 题，第 778 题，第 839 题，第 924 题，第 928 题，第 947 题，第 952 题，第 959 题，第 990 题。能使用第二类并查集模板的题目有：第 803 题，第 952 题。第 803 题秩优化和统计集合个数这些地方会卡时间，如果不优化，会 TLE。\n",
    "    并查集是一种思想，有些题需要灵活使用这种思想，而不是死套模板，如第 399 题，这一题是 stringUnionFind，利用并查集思想实现的。这里每个节点是基于字符串和 map 的，而不是单纯的用 int 节点编号实现的。\n",
    "    有些题死套模板反而做不出来，比如第 685 题，这一题不能路径压缩和秩优化，因为题目中涉及到有向图，需要知道节点的前驱节点，如果路径压缩了，这一题就没法做了。这一题不需要路径压缩和秩优化。\n",
    "    灵活的抽象题目给的信息，将给定的信息合理的编号，使用并查集解题，并用 map 降低时间复杂度，如第 721 题，第 959 题。\n",
    "    关于地图，砖块，网格的题目，可以新建一个特殊节点，将四周边缘的砖块或者网格都 union() 到这个特殊节点上。第 130 题，第 803 题。\n",
    "    能用并查集的题目，一般也可以用 DFS 和 BFS 解答，只不过时间复杂度会高一点。\n",
    "    \n",
    " "
   ]
  },
  {
   "cell_type": "markdown",
   "metadata": {},
   "source": [
    "# Leetcode例题\n",
    "\n",
    "- [(medium)128 Longest Consecutive Sequence](https://leetcode.cn/problems/longest-consecutive-sequence)\n",
    "- [(medium)721 Accounts Merge](https://leetcode.cn/problems/accounts-merge)\n",
    "- [(hard)765 Couples Holding Hands](https://leetcode.cn/problems/couples-holding-hands)\n",
    "- [(hard)778 Swim In Rising Water](https://leetcode.cn/problems/swim-in-rising-water/)\n",
    "\n",
    "- [(hard)803 Bricks Falling When Hit](https://leetcode.cn/problems/bricks-falling-when-hit)\n",
    "- [(hard)928 Minimize Malware Spread II](https://leetcode.cn/problems/minimize-malware-spread-ii)\n",
    "- [(hard)952 Largest Component Size By Common Factor](https://leetcode.cn/problems/largest-component-size-by-common-factor)\n",
    "- [(medium)959 Regions Cut By Slashses](https://leetcode.cn/problems/regions-cut-by-slashes)\n",
    "\n",
    "- [(medium)399 Evaluate Division](https://leetcode.cn/problems/evaluate-division)\n",
    "- [(hard)685 Redundant Connection II](https://leetcode.cn/problems/redundant-connection-ii)"
   ]
  },
  {
   "cell_type": "code",
   "execution_count": null,
   "metadata": {},
   "outputs": [],
   "source": []
  }
 ],
 "metadata": {
  "kernelspec": {
   "display_name": "Python 3",
   "language": "python",
   "name": "python3"
  },
  "language_info": {
   "codemirror_mode": {
    "name": "ipython",
    "version": 3
   },
   "file_extension": ".py",
   "mimetype": "text/x-python",
   "name": "python",
   "nbconvert_exporter": "python",
   "pygments_lexer": "ipython3",
   "version": "3.8.3"
  }
 },
 "nbformat": 4,
 "nbformat_minor": 4
}
