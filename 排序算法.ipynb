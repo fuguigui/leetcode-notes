{
 "cells": [
  {
   "cell_type": "markdown",
   "metadata": {},
   "source": [
    "#  大纲\n",
    "\n",
    "2022/05/16-05/19\n",
    "\n",
    "各种常用的排序算法、实现方法、时间和空间复杂度和典型例题\n",
    "\n",
    "\n",
    "- [X] 有哪些排序算法，实现一下各种排序算法\n",
    "    - [X] [BubbleSort](https://www.runoob.com/w3cnote/bubble-sort.html)\n",
    "    - [X] [Selection Sort](https://www.runoob.com/w3cnote/selection-sort.html)\n",
    "    - [X] insertion-sort\n",
    "    - [X] MergeSort\n",
    "        - [X] 迭代法\n",
    "        - [X] 递归法\n",
    "    - [X] HeapSort\n",
    "    - [X] QuickSort：分治，pivot\n",
    "    - [X] BucketSort\n",
    "    - [X] radix-sort\n",
    "    \n",
    "- [X] 排序算法之间的比较，见md笔记\n",
    "- [X] 时间空间复杂度，见md笔记\n",
    "\n",
    "Google requirements\n",
    "- Be familiar with common sorting functions and on what kind of input data they’re efficient on or not. \n",
    "- Think about efficiency means in terms of runtime and space used. \n",
    "- For example, in exceptional cases insertion-sort or radix-sort are much better than the generic QuickSort/MergeSort/HeapSort answers.\n",
    "\n",
    "参考链接：\n",
    "- [leetcode cookbook](https://books.halfrost.com/leetcode/ChapterTwo/Stack/)\n",
    "- [宫水三叶-排序wiki](https://github.com/SharingSource/LogicStack-LeetCode/wiki/%E6%8E%92%E5%BA%8F)\n",
    "- [dowalle/algo](https://github.com/dowalle/algo)"
   ]
  },
  {
   "cell_type": "markdown",
   "metadata": {},
   "source": [
    "# 各种排序算法的实现"
   ]
  },
  {
   "cell_type": "code",
   "execution_count": 4,
   "metadata": {},
   "outputs": [],
   "source": [
    "# Bubble Sort\n",
    "def BubbleSort(nums):\n",
    "    # by default, sort by ascending order\n",
    "    for i in range(1, len(nums)):\n",
    "        swap = False\n",
    "        for j in range(len(nums) - i):\n",
    "            if nums[j+1] < nums[j]:\n",
    "                nums[j+1], nums[j] = nums[j], nums[j+1]\n",
    "                swap = True\n",
    "        if not swap: # for early stop, to reduce the time complexity for the best case.\n",
    "            break"
   ]
  },
  {
   "cell_type": "code",
   "execution_count": 5,
   "metadata": {},
   "outputs": [
    {
     "name": "stdout",
     "output_type": "stream",
     "text": [
      "[1, 1, 2, 2, 4, 4, 6]\n"
     ]
    }
   ],
   "source": [
    "nums = [1,4,6,2,4,2,1]\n",
    "BubbleSort(nums)\n",
    "print(nums)"
   ]
  },
  {
   "cell_type": "code",
   "execution_count": 8,
   "metadata": {},
   "outputs": [],
   "source": [
    "# Selection Sort\n",
    "def SelectionSort(nums):\n",
    "    # by default, sort by ascending order\n",
    "    for i in range(len(nums)):\n",
    "        min_id = -1\n",
    "        for j in range(i, len(nums)):\n",
    "            if min_id < 0 or nums[j] < nums[min_id]:\n",
    "                min_id = j\n",
    "        nums[i], nums[min_id] = nums[min_id], nums[i]"
   ]
  },
  {
   "cell_type": "code",
   "execution_count": 9,
   "metadata": {},
   "outputs": [
    {
     "name": "stdout",
     "output_type": "stream",
     "text": [
      "[1, 1, 2, 2, 4, 4, 6]\n"
     ]
    }
   ],
   "source": [
    "nums = [1,4,6,2,4,2,1]\n",
    "SelectionSort(nums)\n",
    "print(nums)"
   ]
  },
  {
   "cell_type": "code",
   "execution_count": 40,
   "metadata": {},
   "outputs": [],
   "source": [
    "# Insertion Sort\n",
    "def InsertionSort(nums):\n",
    "    # by default, sort by ascending order\n",
    "    for i in range(1, len(nums)):\n",
    "        tmp = nums[i]\n",
    "        j = i - 1\n",
    "        while j >= 0 and tmp < nums[j]:\n",
    "            nums[j+1] = nums[j]\n",
    "            j -= 1\n",
    "        nums[j + 1] = tmp"
   ]
  },
  {
   "cell_type": "code",
   "execution_count": 43,
   "metadata": {},
   "outputs": [
    {
     "name": "stdout",
     "output_type": "stream",
     "text": [
      "[1, 2, 2, 3, 4, 6]\n"
     ]
    }
   ],
   "source": [
    "nums = [3,6,2,4,2,1]\n",
    "InsertionSort(nums)\n",
    "print(nums)"
   ]
  },
  {
   "cell_type": "code",
   "execution_count": 49,
   "metadata": {},
   "outputs": [],
   "source": [
    "# Merge Sort 递归实现，需要额外的O(n)空间\n",
    "def MergeSort(nums):\n",
    "    if len(nums) > 1:\n",
    "        middle = len(nums) // 2\n",
    "        return merge(MergeSort(nums[:middle]), MergeSort(nums[middle:]))\n",
    "    return nums\n",
    "\n",
    "def merge(nums1, nums2):\n",
    "    new_nums = []\n",
    "    while nums1 and nums2:\n",
    "        if nums1[0] <= nums2[0]:\n",
    "            new_nums.append(nums1.pop(0))\n",
    "            \n",
    "        else:\n",
    "            new_nums.append(nums2.pop(0))\n",
    "    if nums1:\n",
    "        new_nums.extend(nums1)\n",
    "    else:\n",
    "        new_nums.extend(nums2)\n",
    "    return new_nums\n",
    "    "
   ]
  },
  {
   "cell_type": "code",
   "execution_count": 50,
   "metadata": {},
   "outputs": [
    {
     "name": "stdout",
     "output_type": "stream",
     "text": [
      "[1, 2, 2, 3, 4, 6]\n"
     ]
    }
   ],
   "source": [
    "nums = [3,6,2,4,2,1]\n",
    "nums = MergeSort(nums)\n",
    "print(nums)"
   ]
  },
  {
   "cell_type": "code",
   "execution_count": 7,
   "metadata": {},
   "outputs": [],
   "source": [
    "# Merge Sort 迭代实现\n",
    "def MergeSort(nums):\n",
    "    sort_len = 1\n",
    "    to_merge = [[item] for item in nums]\n",
    "    while len(to_merge) > 1:\n",
    "        to_merge_new = []\n",
    "        while len(to_merge) >= 2:\n",
    "            to_merge_new.append(merge(to_merge.pop(0), to_merge.pop(0)))\n",
    "        if to_merge:\n",
    "            to_merge_new.append(to_merge.pop())\n",
    "        to_merge = to_merge_new\n",
    "    return to_merge[0]\n",
    "        \n",
    "def merge(nums1, nums2):\n",
    "    new_nums = []\n",
    "    while nums1 and nums2:\n",
    "        if nums1[0] <= nums2[0]:\n",
    "            new_nums.append(nums1.pop(0))\n",
    "            \n",
    "        else:\n",
    "            new_nums.append(nums2.pop(0))\n",
    "    if nums1:\n",
    "        new_nums.extend(nums1)\n",
    "    else:\n",
    "        new_nums.extend(nums2)\n",
    "    return new_nums\n",
    "        "
   ]
  },
  {
   "cell_type": "code",
   "execution_count": 9,
   "metadata": {},
   "outputs": [
    {
     "name": "stdout",
     "output_type": "stream",
     "text": [
      "[1, 2, 2, 3, 4, 5, 6, 7]\n"
     ]
    }
   ],
   "source": [
    "nums = [3,6,2,4,2,5,7,1]\n",
    "nums = MergeSort(nums)\n",
    "print(nums)"
   ]
  },
  {
   "cell_type": "code",
   "execution_count": 10,
   "metadata": {},
   "outputs": [],
   "source": [
    "import heapq\n",
    "def HeapSort(nums):\n",
    "    heap = []\n",
    "    for num in nums:\n",
    "        heapq.heappush(heap, num)\n",
    "    nums = []\n",
    "    while heap:\n",
    "        nums.append(heapq.heappop(heap))\n",
    "    return nums\n",
    "        "
   ]
  },
  {
   "cell_type": "code",
   "execution_count": 11,
   "metadata": {},
   "outputs": [
    {
     "name": "stdout",
     "output_type": "stream",
     "text": [
      "[1, 2, 2, 3, 4, 5, 6, 7]\n"
     ]
    }
   ],
   "source": [
    "nums = [3,6,2,4,2,5,7,1]\n",
    "nums = HeapSort(nums)\n",
    "print(nums)"
   ]
  },
  {
   "cell_type": "code",
   "execution_count": 34,
   "metadata": {},
   "outputs": [],
   "source": [
    "def QuickSort(nums):\n",
    "    pivot = 0\n",
    "    for i in range(1, len(nums)):\n",
    "        if nums[i] < nums[0]:\n",
    "            pivot += 1\n",
    "            nums[pivot], nums[i] = nums[i], nums[pivot]\n",
    "    print(nums)\n",
    "    if pivot > 0:\n",
    "        nums[0], nums[pivot] = nums[pivot], nums[0]\n",
    "        nums[:pivot] = QuickSort(nums[:pivot])\n",
    "    if pivot < len(nums)-1:\n",
    "        nums[pivot + 1: ] = QuickSort(nums[pivot + 1: ])\n",
    "    return nums"
   ]
  },
  {
   "cell_type": "code",
   "execution_count": 35,
   "metadata": {},
   "outputs": [
    {
     "name": "stdout",
     "output_type": "stream",
     "text": [
      "[3, 2, 2, 1, 6, 5, 7, 4]\n",
      "[1, 2, 2]\n",
      "[2, 2]\n",
      "[2]\n",
      "[6, 5, 4, 7]\n",
      "[4, 5]\n",
      "[5]\n",
      "[7]\n",
      "[1, 2, 2, 3, 4, 5, 6, 7]\n"
     ]
    }
   ],
   "source": [
    "nums = [3,6,2,4,2,5,7,1]\n",
    "nums = QuickSort(nums)\n",
    "print(nums)"
   ]
  },
  {
   "cell_type": "code",
   "execution_count": 25,
   "metadata": {},
   "outputs": [
    {
     "name": "stdout",
     "output_type": "stream",
     "text": [
      "[1, 2, 3, 4, 5]\n",
      "[2, 3, 4, 5]\n",
      "[3, 4, 5]\n",
      "[4, 5]\n",
      "[5]\n",
      "[1, 2, 3, 4, 5]\n"
     ]
    }
   ],
   "source": [
    "nums = [1,2,3,4,5]\n",
    "nums = QuickSort(nums)\n",
    "print(nums) # O(n^2)"
   ]
  },
  {
   "cell_type": "code",
   "execution_count": 26,
   "metadata": {},
   "outputs": [
    {
     "name": "stdout",
     "output_type": "stream",
     "text": [
      "[4, 3, 2, 1, 5]\n",
      "[3, 2, 1, 4]\n",
      "[2, 1, 3]\n",
      "[1, 2]\n",
      "[1]\n",
      "[1, 2, 3, 4, 5]\n"
     ]
    }
   ],
   "source": [
    "nums = [5,4,3,2,1]\n",
    "nums = QuickSort(nums)\n",
    "print(nums) # O(n^2)"
   ]
  },
  {
   "cell_type": "code",
   "execution_count": 36,
   "metadata": {},
   "outputs": [],
   "source": [
    "# 改进版：加一个提前停止，把顺序的时间复杂度降到了O(n)\n",
    "def QuickSort2(nums):\n",
    "    pivot = 0\n",
    "    changed = False\n",
    "    for i in range(1, len(nums)):\n",
    "        if nums[i] < nums[0]:\n",
    "            changed = True\n",
    "            pivot += 1\n",
    "            nums[pivot], nums[i] = nums[i], nums[pivot]\n",
    "    print(nums)\n",
    "    if not changed:\n",
    "        return nums\n",
    "    if pivot > 0:\n",
    "        nums[0], nums[pivot] = nums[pivot], nums[0]\n",
    "        nums[:pivot] = QuickSort(nums[:pivot])\n",
    "    if pivot < len(nums)-1:\n",
    "        nums[pivot + 1: ] = QuickSort(nums[pivot + 1: ])\n",
    "    return nums"
   ]
  },
  {
   "cell_type": "code",
   "execution_count": 37,
   "metadata": {},
   "outputs": [
    {
     "name": "stdout",
     "output_type": "stream",
     "text": [
      "[1, 2, 3, 4, 5]\n",
      "[1, 2, 3, 4, 5]\n"
     ]
    }
   ],
   "source": [
    "nums = [1,2,3,4,5]\n",
    "nums = QuickSort2(nums)\n",
    "print(nums) # O(n)"
   ]
  },
  {
   "cell_type": "code",
   "execution_count": 38,
   "metadata": {},
   "outputs": [
    {
     "name": "stdout",
     "output_type": "stream",
     "text": [
      "[5, 4, 3, 2, 1]\n",
      "[1, 4, 3, 2]\n",
      "[4, 3, 2]\n",
      "[2, 3]\n",
      "[3]\n",
      "[1, 2, 3, 4, 5]\n"
     ]
    }
   ],
   "source": [
    "nums = [5,4,3,2,1]\n",
    "nums = QuickSort2(nums)\n",
    "print(nums) # O(n^2)"
   ]
  },
  {
   "cell_type": "code",
   "execution_count": 39,
   "metadata": {},
   "outputs": [],
   "source": [
    "# Bucket Sort\n",
    "from collections import Counter\n",
    "def BucketSort(nums):\n",
    "    if not nums:\n",
    "        return nums\n",
    "    min_val, max_val = min(nums), max(nums)    \n",
    "    buckets = Counter(nums)\n",
    "    res = []\n",
    "    for i in range(min_val, max_val + 1):\n",
    "        if i in buckets:\n",
    "            res.extend([i] * buckets[i])\n",
    "    return res\n",
    "    "
   ]
  },
  {
   "cell_type": "code",
   "execution_count": 47,
   "metadata": {},
   "outputs": [
    {
     "name": "stdout",
     "output_type": "stream",
     "text": [
      "[1, 3, 4, 5, 6, 12, 25, 47]\n"
     ]
    }
   ],
   "source": [
    "nums = [3,6,12,4,25,5,47,1]\n",
    "nums = BucketSort(nums)\n",
    "print(nums)"
   ]
  },
  {
   "cell_type": "code",
   "execution_count": 45,
   "metadata": {},
   "outputs": [],
   "source": [
    "def RadixSort(nums):\n",
    "    k = len(str(max(nums)))\n",
    "    for j in range(k):\n",
    "        buckets = [[] for i in range(10)]\n",
    "        for num in nums:\n",
    "            buckets[num//(10**j)%10].append(num)\n",
    "        nums = []\n",
    "        for b in buckets:\n",
    "            nums.extend(b)\n",
    "        print(j, nums)\n",
    "    return nums"
   ]
  },
  {
   "cell_type": "code",
   "execution_count": 46,
   "metadata": {},
   "outputs": [
    {
     "name": "stdout",
     "output_type": "stream",
     "text": [
      "0 [1, 12, 3, 4, 25, 5, 6, 47]\n",
      "1 [1, 3, 4, 5, 6, 12, 25, 47]\n",
      "[1, 3, 4, 5, 6, 12, 25, 47]\n"
     ]
    }
   ],
   "source": [
    "nums = [3,6,12,4,25,5,47,1]\n",
    "nums = RadixSort(nums)\n",
    "print(nums)"
   ]
  },
  {
   "cell_type": "markdown",
   "metadata": {},
   "source": [
    "# leetcode例题\n",
    " \n",
    "- Quicksort\n",
    "     - [(medium)75颜色分类](https://leetcode.cn/problems/sort-colors/)。\n",
    "         - 思路一：快排。快排需要注意的是，为了减少交换次数，实际上待交换的数是和pivot元素的后一位做交换。结束之后，还要做一次pivot和最后一个被交换的元素的交换。\n",
    "         - 思路二：桶排序，因为知道了最大最小值\n",
    "     - 🌟[(medium)215数组中的第K个最大元素](https://leetcode.cn/problems/kth-largest-element-in-an-array/)\n",
    "        - 思路一：堆。见堆的笔记。时间复杂度O(nlogk)，空间复杂度O(k)\n",
    "        - 思路二：快排寻找pivot。这里不需要完成排序，只需要判断pivot的下标和目标下标的相对位置，再走左边或者右边即可，是个O(nlogn)的算法。随机确定pivot，可以让期望的复杂度变为O(n).参考[题解](https://leetcode.cn/problems/kth-largest-element-in-an-array/solution/shu-zu-zhong-de-di-kge-zui-da-yuan-su-by-leetcode-/)。空间复杂度是O(logn)，栈调用。\n",
    " \n",
    "- MergeSort\n",
    "    - [(medium)148排序链表](https://leetcode.cn/problems/sort-list/)\n",
    "         - 思路一：选择排序：链表：不是很容易确定下标，进行分段，所以最直接的想法是选择排序，时间复杂度是n方的，超时。\n",
    "         - 思路二：合并排序：虽然链表无法直接根据下标，进行分段。但是不是有办法可以把链表分为两段吗？就是快慢指针！这样就可以使用merge sort了。时间复杂度是nlogn。\n",
    "         - 思路三：桶排序。存储每个节点的值，和最大最小值。最后更改每个节点的值。时间复杂度是n+k。\n",
    " \n",
    "- InsertionSort\n",
    "     - [(medium)147对链表进行插入排序](https://leetcode.cn/problems/insertion-sort-list/)。\n",
    "         - 思路一：朴素的插入：每次从头开始检查，直到已排好序的结尾。选择合适的位置插入当前元素。\n",
    "         - 思路二：改进版。不必每次都从头开始：如果当前元素比结尾的元素大，则直接进入到下一个元素的查找。\n",
    "\n",
    "- Bucket/RadixSort\n",
    "    - [(hard)164最大间距](https://leetcode.cn/problems/maximum-gap/)。思路：桶排序。通过一次遍历，可以获取数组中的最大值，最小值，结合数组的个数，很容易知道最大间距的最小可能值，即为diff=max_val - min_val / (len(nums) - 1)，向上取整。可以设计桶，每个桶内的数相差最多diff。这样我们知道最大值，如果要比diff大，则只能出现在相邻的两个桶之间。那么实际上，每个桶只需要保存两个值即可：当前桶内的最大值和当前桶内的最小值，用下一个桶的最小值，减去当前桶的最大值，就是落在这两个桶里的相邻两个数之间的间距。\n",
    "    - [(medium)148排序链表](https://leetcode.cn/problems/sort-list/)\n",
    "         - 思路一：选择排序：链表：不是很容易确定下标，进行分段，所以最直接的想法是选择排序，时间复杂度是n方的，超时。\n",
    "         - 思路二：合并排序：虽然链表无法直接根据下标，进行分段。但是不是有办法可以把链表分为两段吗？就是快慢指针！这样就可以使用merge sort了。时间复杂度是nlogn。\n",
    "         - 思路三：桶排序。存储每个节点的值，和最大最小值。最后更改每个节点的值。时间复杂度是n+k。\n",
    "    - 🌟[(medium)220存在重复元素III](https://leetcode.cn/problems/contains-duplicate-iii/)\n",
    "        - 思路一：两层循环，外层对nums中的每一个元素，内层对当前元素的后k个元素进行循环，判断是否满足条件。时间复杂度O(nk)，空间复杂度O(1). 超时\n",
    "        - 思路二：桶排序🌟。非常巧妙！时间复杂度O(n), 空间复杂度O(k).是如何想到的呢？对于当前元素，我们只和它之前的最多k个元素相比较，只需要快速判断他们的差值是否小于等于t即可。如何快速判断？假设能把小于等于t map到一个桶中，一查询就知道了。但显然桶的分割方法是固定的，在两个桶边缘的数字，差值只为1，所以还需要但也只需要检测相邻两个桶。注意对窗口外的元素进行出桶。       \n",
    "    - 🌟[(medium)324摆动排序II](https://leetcode.cn/problems/wiggle-sort-ii/)。思路：桶排序。这道题并不需要完全的排序，题目中给出了数的大小范围，考虑使用桶排序。有个需要注意的细节：按桶从大到小，先填偶数位（大数），再填奇数位。这么做的原因是，如果从小到大填写，会出现 [1, 2, 2, 3]这种情况，但是如果从大到小填写，则是[2, 3, 1, 2]。这么做可以把相同的数岔开。因为是从大到小填，所以要先填大数，再填小数。\n",
    "    - [(medium)451根据字符出现频率排序](https://leetcode.cn/problems/sort-characters-by-frequency/)\n",
    "        - 思路一：直接按频率排序。时间复杂度是O(n + klogk)的\n",
    "        - 思路二：桶排序。这又是一个知道上下届的题目，可以使用桶将复杂度降为线性的O(n + k)\n",
    "    - 🌟[(medium)767重构字符串](https://leetcode.cn/problems/reorganize-string/)。\n",
    "        - 思路一：桶排序+最大堆：优先填剩余次数最多的字母。因为要相邻两个不重复，所以每次填两个字母，出堆剩余次数最多的两个字母，填完之后再将剩余次数入堆。如何保证这次填的第二个字母和下次填的第一个字母不一样呢？假设一样会出现矛盾。假设这次填的是a和b，剩余次数分别为ia和ib，因为a在b的前面我们知道ia>=ib，填完之后依然会有ia-1>=ib-1。下一次出堆的时候如果有b，那必然a还在b的前面，只能出现abab的情况，而非abbx。这个解法的时间复杂度是O(n+nlogk)，因为还要进行n次出堆和入堆。空间复杂度是O(k)\n",
    "        - 🌟思路二：间隔着填入字母。先填偶数位，再填奇数位。对于出现次数最多的字母，最多可能出现i+1次（如果len=2i+1）且这i+1次是所有下标为偶数的位置。如果一个字母出现的次数大于(len+1)//2次，则一定会发生重复；否则，一定可行（需要数学证明）。在可行的情况下，只要间隔着填，就不会出现相邻两个重复的情况。参考[题解](https://leetcode.cn/problems/reorganize-string/solution/by-dodo_1202-kccv/)。这个方法的时间复杂度是O(n+klogk)，第一次遍历获取次数是O(n)的，进行k次出堆是O(klogk)的。空间复杂度是O(k)\n",
    "    - [(medium)1054距离相等的条形码](https://leetcode.cn/problems/distant-barcodes/)。思路：同767\n",
    "\n",
    "- 重定义排序函数：\n",
    "    - 🌟[(easy)937重新排列日志文件](https://leetcode.cn/problems/reorder-data-in-log-files/)。本质上是按照要求重新定义一种排序方式。然后可以使用python内置的sort函数\n",
    "    - [(medium)179最大数](https://leetcode.cn/problems/largest-number/)。\n",
    "        - 思路一：试图使用桶排序，然后逆序9-0遍历，发现长度不相等的case十分棘手。譬如 [342, 34234], [432, 43243]。这两个case提取出前缀之后，分别是342 ['', '34'], 432 ['', '43']，那么空白字符串对应的应该是放在前面还是后面呢？第一个应该放在后面，即34342，第二个应该放在前面，即43243432. 这个判断过程是怎么进行的呢？一般而言， 空字符可以当作前缀第一个数字来对待，但是对于以前缀第一个数字为key的子桶来说，他们之间如何比较大小？只能是通过比较 前缀+前缀+桶 和 前缀+桶+前缀，来比较大小了。总结，需要特殊对待空字符，和以前缀第一个数字为key的子桶。 另外一个细节：最后要清洗输出，把前缀多余的0去掉，只保留1个。\n",
    "        特别：这里可以参考[宫水三叶的题解中](https://leetcode.cn/problems/largest-number/solution/gong-shui-san-xie-noxiang-xin-ke-xue-xi-vn86e/)：寻找越界i的问题。对于空白字符串的处理：实际上是循环使用前缀，来和其他数匹配。\n",
    "        - 思路二：重写排序规则。重新进行排序，如果a+b的字典序比b+a大，则a应该排在b的前面，返回-1.其他情况同理。\n",
    "\n",
    "\n",
    "- [(medium)969煎饼排序](https://leetcode.cn/problems/pancake-sorting/)。思路：这道题目定义了一种排序的方式，让我们来使用这种方式。首先观察这种排序，最重要的特性是把头元素和尾元素交换位置。可以联想插入排序：向已经排好序的数组中插入新的元素。这里是依次把尾部排好，就不用再动了。在排前面的。细节：可以增加一个early stop，用于已经顺序排好的数组。\n",
    "- [Google interview1](https://www.jianshu.com/p/f657337918a0)。思路：原地交换，直到不能再交换。找到了重复元素，或者进入下一位的交换。思路同leetcode 41"
   ]
  },
  {
   "cell_type": "code",
   "execution_count": null,
   "metadata": {},
   "outputs": [],
   "source": [
    "# 75 快排\n",
    "class Solution:\n",
    "    def quicksort(self, nums, start_id, end_id):\n",
    "        if start_id < end_id - 1:\n",
    "            index = start_id\n",
    "            for i in range(start_id + 1, end_id):\n",
    "                num = nums[i]\n",
    "                if num < nums[start_id]:\n",
    "                    index += 1 # 细节：先增加index，再交换。否则，当退出循环的时候，index会比预期的多1\n",
    "                    nums[index], nums[i] = num, nums[index]\n",
    "            if index > start_id:\n",
    "                tmp = nums[start_id]\n",
    "                nums[start_id] = nums[index]\n",
    "                nums[index] = tmp\n",
    "            self.quicksort(nums, start_id, index)\n",
    "            self.quicksort(nums, index + 1, end_id)\n",
    "\n",
    "\n",
    "    def sortColors(self, nums: List[int]) -> None:\n",
    "        \"\"\"\n",
    "        Do not return anything, modify nums in-place instead.\n",
    "        \"\"\"\n",
    "        self.quicksort(nums, 0, len(nums))"
   ]
  },
  {
   "cell_type": "code",
   "execution_count": null,
   "metadata": {},
   "outputs": [],
   "source": [
    "# 75桶排序\n",
    "class Solution:\n",
    "    def sortColors(self, nums: List[int]) -> None:\n",
    "        \"\"\"\n",
    "        Do not return anything, modify nums in-place instead.\n",
    "        \"\"\"\n",
    "        buckets = {}\n",
    "        for num in nums:\n",
    "            buckets[num] = buckets.get(num, 0) + 1\n",
    "        occupied = 0\n",
    "        for key in [0, 1, 2]:\n",
    "            if key not in buckets:\n",
    "                continue\n",
    "            for i in range(occupied, occupied + buckets[key]):\n",
    "                nums[i] = key\n",
    "            occupied += buckets[key]"
   ]
  },
  {
   "cell_type": "code",
   "execution_count": null,
   "metadata": {},
   "outputs": [],
   "source": [
    "# 148 选择排序，超时\n",
    "class Solution:\n",
    "    def sortList(self, head: Optional[ListNode]) -> Optional[ListNode]:\n",
    "        out_cur = head\n",
    "        if not out_cur:\n",
    "            return head\n",
    "        while out_cur.next:\n",
    "            cur = out_cur.next\n",
    "            while cur:\n",
    "                if cur.val < out_cur.val:\n",
    "                    tmp = out_cur.val\n",
    "                    out_cur.val = cur.val\n",
    "                    cur.val = tmp\n",
    "                cur = cur.next\n",
    "            out_cur = out_cur.next\n",
    "        return head"
   ]
  },
  {
   "cell_type": "code",
   "execution_count": 1,
   "metadata": {},
   "outputs": [
    {
     "ename": "NameError",
     "evalue": "name 'Optional' is not defined",
     "output_type": "error",
     "traceback": [
      "\u001b[0;31m---------------------------------------------------------------------------\u001b[0m",
      "\u001b[0;31mNameError\u001b[0m                                 Traceback (most recent call last)",
      "\u001b[0;32m<ipython-input-1-181d9d3d90d6>\u001b[0m in \u001b[0;36m<module>\u001b[0;34m\u001b[0m\n\u001b[1;32m      5\u001b[0m \u001b[0;31m#         self.val = val\u001b[0m\u001b[0;34m\u001b[0m\u001b[0;34m\u001b[0m\u001b[0;34m\u001b[0m\u001b[0m\n\u001b[1;32m      6\u001b[0m \u001b[0;31m#         self.next = next\u001b[0m\u001b[0;34m\u001b[0m\u001b[0;34m\u001b[0m\u001b[0;34m\u001b[0m\u001b[0m\n\u001b[0;32m----> 7\u001b[0;31m \u001b[0;32mclass\u001b[0m \u001b[0mSolution\u001b[0m\u001b[0;34m:\u001b[0m\u001b[0;34m\u001b[0m\u001b[0;34m\u001b[0m\u001b[0m\n\u001b[0m\u001b[1;32m      8\u001b[0m     \u001b[0;32mdef\u001b[0m \u001b[0msortList\u001b[0m\u001b[0;34m(\u001b[0m\u001b[0mself\u001b[0m\u001b[0;34m,\u001b[0m \u001b[0mhead\u001b[0m\u001b[0;34m:\u001b[0m \u001b[0mOptional\u001b[0m\u001b[0;34m[\u001b[0m\u001b[0mListNode\u001b[0m\u001b[0;34m]\u001b[0m\u001b[0;34m)\u001b[0m \u001b[0;34m->\u001b[0m \u001b[0mOptional\u001b[0m\u001b[0;34m[\u001b[0m\u001b[0mListNode\u001b[0m\u001b[0;34m]\u001b[0m\u001b[0;34m:\u001b[0m\u001b[0;34m\u001b[0m\u001b[0;34m\u001b[0m\u001b[0m\n\u001b[1;32m      9\u001b[0m         \u001b[0;32mif\u001b[0m \u001b[0;32mnot\u001b[0m \u001b[0mhead\u001b[0m \u001b[0;32mor\u001b[0m \u001b[0;32mnot\u001b[0m \u001b[0mhead\u001b[0m\u001b[0;34m.\u001b[0m\u001b[0mnext\u001b[0m\u001b[0;34m:\u001b[0m \u001b[0;31m# 细节一：如果是None或者只有一个节点，直接返回\u001b[0m\u001b[0;34m\u001b[0m\u001b[0;34m\u001b[0m\u001b[0m\n",
      "\u001b[0;32m<ipython-input-1-181d9d3d90d6>\u001b[0m in \u001b[0;36mSolution\u001b[0;34m()\u001b[0m\n\u001b[1;32m      6\u001b[0m \u001b[0;31m#         self.next = next\u001b[0m\u001b[0;34m\u001b[0m\u001b[0;34m\u001b[0m\u001b[0;34m\u001b[0m\u001b[0m\n\u001b[1;32m      7\u001b[0m \u001b[0;32mclass\u001b[0m \u001b[0mSolution\u001b[0m\u001b[0;34m:\u001b[0m\u001b[0;34m\u001b[0m\u001b[0;34m\u001b[0m\u001b[0m\n\u001b[0;32m----> 8\u001b[0;31m     \u001b[0;32mdef\u001b[0m \u001b[0msortList\u001b[0m\u001b[0;34m(\u001b[0m\u001b[0mself\u001b[0m\u001b[0;34m,\u001b[0m \u001b[0mhead\u001b[0m\u001b[0;34m:\u001b[0m \u001b[0mOptional\u001b[0m\u001b[0;34m[\u001b[0m\u001b[0mListNode\u001b[0m\u001b[0;34m]\u001b[0m\u001b[0;34m)\u001b[0m \u001b[0;34m->\u001b[0m \u001b[0mOptional\u001b[0m\u001b[0;34m[\u001b[0m\u001b[0mListNode\u001b[0m\u001b[0;34m]\u001b[0m\u001b[0;34m:\u001b[0m\u001b[0;34m\u001b[0m\u001b[0;34m\u001b[0m\u001b[0m\n\u001b[0m\u001b[1;32m      9\u001b[0m         \u001b[0;32mif\u001b[0m \u001b[0;32mnot\u001b[0m \u001b[0mhead\u001b[0m \u001b[0;32mor\u001b[0m \u001b[0;32mnot\u001b[0m \u001b[0mhead\u001b[0m\u001b[0;34m.\u001b[0m\u001b[0mnext\u001b[0m\u001b[0;34m:\u001b[0m \u001b[0;31m# 细节一：如果是None或者只有一个节点，直接返回\u001b[0m\u001b[0;34m\u001b[0m\u001b[0;34m\u001b[0m\u001b[0m\n\u001b[1;32m     10\u001b[0m             \u001b[0;32mreturn\u001b[0m \u001b[0mhead\u001b[0m\u001b[0;34m\u001b[0m\u001b[0;34m\u001b[0m\u001b[0m\n",
      "\u001b[0;31mNameError\u001b[0m: name 'Optional' is not defined"
     ]
    }
   ],
   "source": [
    "# 148 合并排序，通过\n",
    "# Definition for singly-linked list.\n",
    "# class ListNode:\n",
    "#     def __init__(self, val=0, next=None):\n",
    "#         self.val = val\n",
    "#         self.next = next\n",
    "class Solution:\n",
    "    def sortList(self, head: Optional[ListNode]) -> Optional[ListNode]:\n",
    "        if not head or not head.next: # 细节一：如果是None或者只有一个节点，直接返回\n",
    "            return head\n",
    "        faster = head\n",
    "        slower_head = ListNode(next=head) # 细节二：这个实际是指向慢指针的节点。假设有2个节点，第一次循环，快指针走到头，慢指针走到第二个，指向慢指针的走到第一个。\n",
    "        ordered = True # 细节三：为了early stop\n",
    "\n",
    "        while faster and faster.next:\n",
    "            if slower_head.next.next.val < slower_head.next.val:\n",
    "                ordered = False\n",
    "            faster = faster.next.next\n",
    "            slower_head = slower_head.next\n",
    "        \n",
    "        mid = slower_head.next # 后半段的开始节点\n",
    "        slower_head.next = None\n",
    "        if not ordered:\n",
    "            head = self.sortList(head) # 对应细节三：如果有一半已经排好序了，减少一次排序\n",
    "        next_head = self.sortList(mid)\n",
    "        dummy_head = ListNode() # 细节四：dummy 头指针，方便统一循环格式\n",
    "        cur_head = dummy_head\n",
    "        while head and next_head:\n",
    "            if head.val <= next_head.val:\n",
    "                cur_head.next = head\n",
    "                head = head.next\n",
    "            else:\n",
    "                cur_head.next = next_head\n",
    "                next_head = next_head.next\n",
    "            cur_head = cur_head.next\n",
    "        if head:\n",
    "            cur_head.next = head\n",
    "        else:\n",
    "            cur_head.next = next_head\n",
    "        return dummy_head.next"
   ]
  },
  {
   "cell_type": "code",
   "execution_count": null,
   "metadata": {},
   "outputs": [],
   "source": [
    "# 148 桶排序，通过\n",
    "class Solution:\n",
    "    def sortList(self, head: Optional[ListNode]) -> Optional[ListNode]:\n",
    "        if not head:\n",
    "            return head\n",
    "        bucket = {}\n",
    "        min_val = head.val\n",
    "        max_val = head.val\n",
    "        cur = head\n",
    "        while cur:\n",
    "            bucket[cur.val] = bucket.get(cur.val, 0) + 1\n",
    "            min_val = min(min_val, cur.val)\n",
    "            max_val = max(max_val, cur.val)\n",
    "            cur = cur.next\n",
    "        cur = head\n",
    "        for i in range(min_val, max_val + 1):\n",
    "            if i in bucket:\n",
    "                for _ in range(bucket[i]):\n",
    "                    cur.val = i\n",
    "                    cur = cur.next\n",
    "        return head"
   ]
  },
  {
   "cell_type": "code",
   "execution_count": null,
   "metadata": {},
   "outputs": [],
   "source": [
    "# 147 插入排序\n",
    "# Definition for singly-linked list.\n",
    "# class ListNode:\n",
    "#     def __init__(self, val=0, next=None):\n",
    "#         self.val = val\n",
    "#         self.next = next\n",
    "class Solution:\n",
    "    def insertionSortList(self, head: ListNode) -> ListNode:\n",
    "        dummy_head = ListNode(next=head)\n",
    "        if not head or not head.next:\n",
    "            return head\n",
    "        second_head = head.next\n",
    "        first_tail = head\n",
    "        while second_head:\n",
    "            # find the position of former_node\n",
    "            former_node = dummy_head # 每次循环从头开始\n",
    "            while former_node.next != second_head and former_node.next.val <= second_head.val:\n",
    "                former_node = former_node.next\n",
    "            # insert the second_head here\n",
    "            if second_head != former_node.next:\n",
    "                tmp_node = second_head.next\n",
    "                second_head.next = former_node.next\n",
    "                former_node.next = second_head\n",
    "                first_tail.next = tmp_node\n",
    "                # start the next iteration\n",
    "                second_head = tmp_node\n",
    "            else:\n",
    "                first_tail = second_head\n",
    "                second_head = second_head.next\n",
    "        return dummy_head.next"
   ]
  },
  {
   "cell_type": "code",
   "execution_count": null,
   "metadata": {},
   "outputs": [],
   "source": [
    "# 147 改进版\n",
    "# Definition for singly-linked list.\n",
    "# class ListNode:\n",
    "#     def __init__(self, val=0, next=None):\n",
    "#         self.val = val\n",
    "#         self.next = next\n",
    "class Solution:\n",
    "    def insertionSortList(self, head: ListNode) -> ListNode:\n",
    "        dummy_head = ListNode(next=head)\n",
    "        if not head or not head.next:\n",
    "            return head\n",
    "        second_head = head.next\n",
    "        first_tail = head\n",
    "        while second_head:\n",
    "            if first_tail.val <= second_head.val: # 不必每次都从头开始遍历。如果当前元素比上一个结尾大，则直接更新，检查下一个元素\n",
    "                first_tail = second_head\n",
    "            else:\n",
    "                # find the position of former_node\n",
    "                former_node = dummy_head # 否则的话，再从头开始\n",
    "                while former_node.next.val <= second_head.val:\n",
    "                    former_node = former_node.next\n",
    "                # insert the second_head here\n",
    "                first_tail.next = second_head.next\n",
    "                second_head.next = former_node.next\n",
    "                former_node.next = second_head\n",
    "            # start the next iteration\n",
    "            second_head = first_tail.next\n",
    "        return dummy_head.next\n",
    "\n"
   ]
  },
  {
   "cell_type": "code",
   "execution_count": null,
   "metadata": {},
   "outputs": [],
   "source": [
    "# 937\n",
    "class Solution:\n",
    "    def reorderLogFiles(self, logs: List[str]) -> List[str]:\n",
    "        def trans(log):\n",
    "            a, b = log.split(\" \", 1)\n",
    "            return (0, b, a) if b[0].isalpha() else (1,)\n",
    "        logs.sort(key=trans)\n",
    "        return logs"
   ]
  },
  {
   "cell_type": "code",
   "execution_count": null,
   "metadata": {},
   "outputs": [],
   "source": [
    "# 179 思路一：桶排序\n",
    "\n",
    "class Solution:\n",
    "    def largestNumber(self, nums: List[int]) -> str:\n",
    "        def bucketsort(nums, default_val=\"\"):\n",
    "            if len(nums) == 1:\n",
    "                return default_val + nums[0]\n",
    "            buckets = {}\n",
    "            empty_cnt = 0\n",
    "            for num in nums:\n",
    "                if num == \"\":\n",
    "                    empty_cnt += 1\n",
    "                    continue\n",
    "                start_digit = num[0]\n",
    "                if start_digit not in buckets:\n",
    "                    buckets[start_digit] = [num[1:]]\n",
    "                else:\n",
    "                    buckets[start_digit].append(num[1:])\n",
    "            merge_strs = {}\n",
    "            for key, val in buckets.items():\n",
    "                merge_strs[key] = bucketsort(val, default_val + key)\n",
    "            merged_str = \"\"\n",
    "            for i in range(9, -1, -1):\n",
    "                if str(i) not in merge_strs:\n",
    "                    continue\n",
    "                if default_val != \"\" and str(i) == default_val[0]: # 特别处理和前缀首字符相等的子桶\n",
    "                    if default_val + merge_strs[str(i)] > merge_strs[str(i)] + default_val: \n",
    "                        merged_str += (\"\".join([default_val for _ in range(empty_cnt)]))\n",
    "                        merged_str += merge_strs[str(i)]\n",
    "                        empty_cnt = 0\n",
    "                    else:\n",
    "                        merged_str += merge_strs[str(i)]\n",
    "                        merged_str += (\"\".join([default_val for _ in range(empty_cnt)]))\n",
    "                        empty_cnt = 0\n",
    "                else:\n",
    "                    if (default_val == \"\" or i < int(default_val[0])) and empty_cnt > 0:\n",
    "                        merged_str += (\"\".join([default_val for _ in range(empty_cnt)]))\n",
    "                        empty_cnt = 0\n",
    "                    merged_str += merge_strs[str(i)]\n",
    "            if empty_cnt > 0: # 特别处理‘’字符\n",
    "                merged_str += (\"\".join([default_val for _ in range(empty_cnt)]))\n",
    "            return merged_str\n",
    "        uncleand = bucketsort([str(num) for num in nums], default_val=\"\")\n",
    "        for i in range(len(uncleand)): # 清洗最终输出结果\n",
    "            if uncleand[i] != '0':\n",
    "                break\n",
    "        return uncleand[i:]"
   ]
  },
  {
   "cell_type": "code",
   "execution_count": null,
   "metadata": {},
   "outputs": [],
   "source": [
    "# 179 思路二：重写排序规则\n",
    "import functools\n",
    "class Solution:\n",
    "    def largestNumber(self, nums: List[int]) -> str:\n",
    "        def cmp(a, b):\n",
    "            if a + b == b + a:\n",
    "                return 0\n",
    "            if a + b > b + a:\n",
    "                return -1\n",
    "            return 1\n",
    "        str_nums = [str(item) for item in nums]\n",
    "        str_nums.sort(key=functools.cmp_to_key(cmp))\n",
    "        res = ''.join(str_nums)\n",
    "        for i in range(len(res)):\n",
    "            if res[i] != '0':\n",
    "                break\n",
    "        return res[i:]"
   ]
  },
  {
   "cell_type": "code",
   "execution_count": 2,
   "metadata": {},
   "outputs": [
    {
     "data": {
      "text/plain": [
       "1"
      ]
     },
     "execution_count": 2,
     "metadata": {},
     "output_type": "execute_result"
    }
   ],
   "source": [
    "# 215 思路：快排寻找pivot，不需要完全排序\n",
    "import random\n",
    "class Solution:\n",
    "    def fastsort(self, nums, start_id, end_id, aim_id):\n",
    "        if end_id == start_id:\n",
    "            return\n",
    "        pivot_id = random.randint(start_id, end_id) # 随机化确定pivot\n",
    "        if pivot_id != start_id:\n",
    "            nums[start_id], nums[pivot_id] = nums[pivot_id], nums[start_id] # 把pivot放到第一位，便于循环\n",
    "        swap_id = start_id\n",
    "        for i in range(start_id +1, end_id + 1):\n",
    "            if nums[i] <= nums[start_id]:\n",
    "                swap_id += 1\n",
    "                nums[swap_id], nums[i] = nums[i], nums[swap_id]\n",
    "        nums[start_id], nums[swap_id] = nums[swap_id], nums[start_id]\n",
    "        # 判断相对位置\n",
    "        if swap_id == aim_id:\n",
    "            return\n",
    "        if swap_id < aim_id:\n",
    "            self.fastsort(nums, swap_id + 1, end_id, aim_id)\n",
    "        else:\n",
    "            self.fastsort(nums, start_id, swap_id - 1, aim_id)\n",
    "\n",
    "    def findKthLargest(self, nums: List[int], k: int) -> int:\n",
    "        k_smaller_id = len(nums) - k\n",
    "        self.fastsort(nums, 0, len(nums) - 1, k_smaller_id)\n",
    "        return nums[k_smaller_id]"
   ]
  },
  {
   "cell_type": "code",
   "execution_count": null,
   "metadata": {},
   "outputs": [],
   "source": [
    "# 220 思路一：两层循环\n",
    "class Solution:\n",
    "    def containsNearbyAlmostDuplicate(self, nums: List[int], k: int, t: int) -> bool:\n",
    "        for i, numi in enumerate(nums):\n",
    "            for j in range(i+1, min(i +k + 1, len(nums))):\n",
    "                if abs(nums[j] - numi) <= t:\n",
    "                    return True\n",
    "        return False"
   ]
  },
  {
   "cell_type": "code",
   "execution_count": null,
   "metadata": {},
   "outputs": [],
   "source": [
    "# 220 思路二：桶排序\n",
    "class Solution:\n",
    "    def containsNearbyAlmostDuplicate(self, nums: List[int], k: int, t: int) -> bool:\n",
    "        buckets = {}\n",
    "        for i, numi in enumerate(nums):\n",
    "            bucket_id = numi // (t + 1) # 桶的分割方法，每t+1个放到一个桶里，这样能保证桶内的差值满足条件。\n",
    "            if bucket_id in buckets:\n",
    "                return True\n",
    "            buckets[bucket_id] = numi\n",
    "            if bucket_id - 1 in buckets: # 需要但也只需要检测相邻两个桶\n",
    "                if numi - buckets[bucket_id - 1] <= t:\n",
    "                    return True\n",
    "            if bucket_id + 1 in buckets:\n",
    "                if buckets[bucket_id + 1] - numi <= t:\n",
    "                    return True\n",
    "            if i > k: # 对窗口外的元素出桶\n",
    "                buckets.pop(nums[i-k] // (t+1))\n",
    "        return False"
   ]
  },
  {
   "cell_type": "code",
   "execution_count": null,
   "metadata": {},
   "outputs": [],
   "source": [
    "# 324 桶排序\n",
    "\n",
    "class Solution:\n",
    "    def wiggleSort(self, nums: List[int]) -> None:\n",
    "        \"\"\"\n",
    "        Do not return anything, modify nums in-place instead.\n",
    "        \"\"\"\n",
    "        buckets = {}\n",
    "        for num in nums:\n",
    "            buckets[num] = buckets.get(num, 0) + 1\n",
    "        ttl_len = len(nums)\n",
    "        if ttl_len % 2 == 1:\n",
    "            small_end = ttl_len\n",
    "            big_end = ttl_len - 1\n",
    "        else:\n",
    "            big_end = ttl_len\n",
    "            small_end = ttl_len - 1\n",
    "        start_num = 5000\n",
    "        for i in range(1, big_end, 2):\n",
    "            while start_num not in buckets or buckets[start_num] == 0:\n",
    "                start_num -= 1\n",
    "            nums[i] = start_num\n",
    "            buckets[start_num] -= 1\n",
    "        for i in range(0, small_end, 2):\n",
    "            while start_num not in buckets or buckets[start_num] == 0:\n",
    "                start_num -= 1\n",
    "            nums[i] = start_num\n",
    "            buckets[start_num] -= 1\n",
    "        return nums"
   ]
  },
  {
   "cell_type": "code",
   "execution_count": null,
   "metadata": {},
   "outputs": [],
   "source": [
    "# 451  思路一：按出现频率排序\n",
    "from collections import Counter\n",
    "class Solution:\n",
    "    def frequencySort(self, s: str) -> str:\n",
    "        alpha_cnt = Counter([c for c in s])\n",
    "        to_sort = [(val, key) for key, val in alpha_cnt.items()]\n",
    "        to_sort.sort(reverse=True)\n",
    "        res = \"\"\n",
    "        for item in to_sort:\n",
    "            res += item[1] * item[0]\n",
    "        return res"
   ]
  },
  {
   "cell_type": "code",
   "execution_count": null,
   "metadata": {},
   "outputs": [],
   "source": [
    "# 451  思路二：找到最大频率，用桶排序\n",
    "from collections import Counter\n",
    "class Solution:\n",
    "    def frequencySort(self, s: str) -> str:\n",
    "        alpha_cnt = Counter([c for c in s])\n",
    "        buckets = {}\n",
    "        max_buckets = 0\n",
    "        for key, val in alpha_cnt.items():\n",
    "            if val in buckets:\n",
    "                buckets[val].append(key)\n",
    "            else:\n",
    "                buckets[val] = [key]\n",
    "            max_buckets = max(max_buckets, val)\n",
    "        res = \"\"\n",
    "        cur_cnt = max_buckets\n",
    "        while cur_cnt > 0:\n",
    "            if cur_cnt in buckets:\n",
    "                for alpha in buckets[cur_cnt]:\n",
    "                    res += alpha * cur_cnt\n",
    "            cur_cnt -= 1\n",
    "        return res\n"
   ]
  },
  {
   "cell_type": "code",
   "execution_count": null,
   "metadata": {},
   "outputs": [],
   "source": [
    "# 767 桶排序 + 最大堆，每次填两个。\n",
    "from collections import Counter\n",
    "import heapq\n",
    "class Solution:\n",
    "    def reorganizeString(self, s: str) -> str:\n",
    "        alpha_cnt = Counter([c for c in s])\n",
    "        max_heap = []\n",
    "        for alpha, cnt in alpha_cnt.items():\n",
    "            heapq.heappush(max_heap, (-cnt, alpha))\n",
    "        res = \"\"\n",
    "        while len(max_heap) > 1:\n",
    "            cur_cnt, cur_alpha = heapq.heappop(max_heap) # 每次取当前剩余次数最多的两个字母，并排填上。\n",
    "            next_cnt, next_alpha = heapq.heappop(max_heap)\n",
    "            res += (cur_alpha + next_alpha)\n",
    "            cur_cnt += 1\n",
    "            next_cnt += 1\n",
    "            if cur_cnt < 0:\n",
    "                heapq.heappush(max_heap, (cur_cnt, cur_alpha)) # 将剩余次数入堆\n",
    "            if next_cnt < 0:\n",
    "                heapq.heappush(max_heap, (next_cnt, next_alpha))\n",
    "        if max_heap:\n",
    "            final_cnt, final_alpha = heapq.heappop(max_heap)\n",
    "            if final_cnt < -1:\n",
    "                return ''\n",
    "            res += final_alpha\n",
    "        return res"
   ]
  },
  {
   "cell_type": "code",
   "execution_count": null,
   "metadata": {},
   "outputs": [],
   "source": [
    "# 767 思路二：先填偶数位再填奇数位\n",
    "\n",
    "from collections import Counter\n",
    "import heapq\n",
    "class Solution:\n",
    "    def reorganizeString(self, s: str) -> str:\n",
    "        res = [c for c in s]\n",
    "        alpha_cnt = Counter(res)\n",
    "        max_heap = []\n",
    "        for alpha, cnt in alpha_cnt.items():\n",
    "            heapq.heappush(max_heap, (-cnt, alpha))\n",
    "        \n",
    "        start_id = 0 # 先填偶数位\n",
    "        max_cnt, _ = max_heap[0]\n",
    "        if -max_cnt > (len(res) + 1) // 2: # 如果最长的元素数量多于(len(res) + 1) // 2，则无法实现；否则可以。\n",
    "            return \"\"\n",
    "        while max_heap:\n",
    "            cur_cnt, cur_alpha = heapq.heappop(max_heap)\n",
    "            while cur_cnt < 0 and start_id < len(s):\n",
    "                res[start_id] = cur_alpha\n",
    "                start_id += 2\n",
    "                cur_cnt += 1\n",
    "                if start_id >= len(s):\n",
    "                    start_id = 1 # 再填奇数位\n",
    "        return \"\".join(res)"
   ]
  },
  {
   "cell_type": "code",
   "execution_count": 1,
   "metadata": {},
   "outputs": [
    {
     "ename": "NameError",
     "evalue": "name 'List' is not defined",
     "output_type": "error",
     "traceback": [
      "\u001b[0;31m---------------------------------------------------------------------------\u001b[0m",
      "\u001b[0;31mNameError\u001b[0m                                 Traceback (most recent call last)",
      "\u001b[0;32m<ipython-input-1-11fd80388141>\u001b[0m in \u001b[0;36m<module>\u001b[0;34m\u001b[0m\n\u001b[1;32m      2\u001b[0m \u001b[0;32mimport\u001b[0m \u001b[0mheapq\u001b[0m\u001b[0;34m\u001b[0m\u001b[0;34m\u001b[0m\u001b[0m\n\u001b[1;32m      3\u001b[0m \u001b[0;32mfrom\u001b[0m \u001b[0mcollections\u001b[0m \u001b[0;32mimport\u001b[0m \u001b[0mCounter\u001b[0m\u001b[0;34m\u001b[0m\u001b[0;34m\u001b[0m\u001b[0m\n\u001b[0;32m----> 4\u001b[0;31m \u001b[0;32mclass\u001b[0m \u001b[0mSolution\u001b[0m\u001b[0;34m:\u001b[0m\u001b[0;34m\u001b[0m\u001b[0;34m\u001b[0m\u001b[0m\n\u001b[0m\u001b[1;32m      5\u001b[0m     \u001b[0;32mdef\u001b[0m \u001b[0mrearrangeBarcodes\u001b[0m\u001b[0;34m(\u001b[0m\u001b[0mself\u001b[0m\u001b[0;34m,\u001b[0m \u001b[0mbarcodes\u001b[0m\u001b[0;34m:\u001b[0m \u001b[0mList\u001b[0m\u001b[0;34m[\u001b[0m\u001b[0mint\u001b[0m\u001b[0;34m]\u001b[0m\u001b[0;34m)\u001b[0m \u001b[0;34m->\u001b[0m \u001b[0mList\u001b[0m\u001b[0;34m[\u001b[0m\u001b[0mint\u001b[0m\u001b[0;34m]\u001b[0m\u001b[0;34m:\u001b[0m\u001b[0;34m\u001b[0m\u001b[0;34m\u001b[0m\u001b[0m\n\u001b[1;32m      6\u001b[0m         \u001b[0mbarcodes_cnt\u001b[0m \u001b[0;34m=\u001b[0m \u001b[0mCounter\u001b[0m\u001b[0;34m(\u001b[0m\u001b[0mbarcodes\u001b[0m\u001b[0;34m)\u001b[0m\u001b[0;34m\u001b[0m\u001b[0;34m\u001b[0m\u001b[0m\n",
      "\u001b[0;32m<ipython-input-1-11fd80388141>\u001b[0m in \u001b[0;36mSolution\u001b[0;34m()\u001b[0m\n\u001b[1;32m      3\u001b[0m \u001b[0;32mfrom\u001b[0m \u001b[0mcollections\u001b[0m \u001b[0;32mimport\u001b[0m \u001b[0mCounter\u001b[0m\u001b[0;34m\u001b[0m\u001b[0;34m\u001b[0m\u001b[0m\n\u001b[1;32m      4\u001b[0m \u001b[0;32mclass\u001b[0m \u001b[0mSolution\u001b[0m\u001b[0;34m:\u001b[0m\u001b[0;34m\u001b[0m\u001b[0;34m\u001b[0m\u001b[0m\n\u001b[0;32m----> 5\u001b[0;31m     \u001b[0;32mdef\u001b[0m \u001b[0mrearrangeBarcodes\u001b[0m\u001b[0;34m(\u001b[0m\u001b[0mself\u001b[0m\u001b[0;34m,\u001b[0m \u001b[0mbarcodes\u001b[0m\u001b[0;34m:\u001b[0m \u001b[0mList\u001b[0m\u001b[0;34m[\u001b[0m\u001b[0mint\u001b[0m\u001b[0;34m]\u001b[0m\u001b[0;34m)\u001b[0m \u001b[0;34m->\u001b[0m \u001b[0mList\u001b[0m\u001b[0;34m[\u001b[0m\u001b[0mint\u001b[0m\u001b[0;34m]\u001b[0m\u001b[0;34m:\u001b[0m\u001b[0;34m\u001b[0m\u001b[0;34m\u001b[0m\u001b[0m\n\u001b[0m\u001b[1;32m      6\u001b[0m         \u001b[0mbarcodes_cnt\u001b[0m \u001b[0;34m=\u001b[0m \u001b[0mCounter\u001b[0m\u001b[0;34m(\u001b[0m\u001b[0mbarcodes\u001b[0m\u001b[0;34m)\u001b[0m\u001b[0;34m\u001b[0m\u001b[0;34m\u001b[0m\u001b[0m\n\u001b[1;32m      7\u001b[0m         \u001b[0mres\u001b[0m \u001b[0;34m=\u001b[0m \u001b[0;34m[\u001b[0m\u001b[0;36m0\u001b[0m \u001b[0;32mfor\u001b[0m \u001b[0mbar\u001b[0m \u001b[0;32min\u001b[0m \u001b[0mbarcodes\u001b[0m\u001b[0;34m]\u001b[0m\u001b[0;34m\u001b[0m\u001b[0;34m\u001b[0m\u001b[0m\n",
      "\u001b[0;31mNameError\u001b[0m: name 'List' is not defined"
     ]
    }
   ],
   "source": [
    "# 1054  和767一样\n",
    "import heapq\n",
    "from collections import Counter\n",
    "class Solution:\n",
    "    def rearrangeBarcodes(self, barcodes: List[int]) -> List[int]:\n",
    "        barcodes_cnt = Counter(barcodes)\n",
    "        res = [0 for bar in barcodes]\n",
    "        start_id = 0\n",
    "        max_heap = []\n",
    "        for barcode, cnt in barcodes_cnt.items():\n",
    "            heapq.heappush(max_heap, (-cnt, barcode))\n",
    "        while max_heap:\n",
    "            cur_cnt, cur_barcode = heapq.heappop(max_heap)\n",
    "            while cur_cnt < 0:\n",
    "                res[start_id] = cur_barcode\n",
    "                cur_cnt += 1\n",
    "                start_id += 2\n",
    "                if start_id >= len(barcodes):\n",
    "                    start_id = 1\n",
    "        return res"
   ]
  },
  {
   "cell_type": "code",
   "execution_count": null,
   "metadata": {},
   "outputs": [],
   "source": [
    "# 969 从尾到头，依次排序。把最大的放在最后面。\n",
    "class Solution:\n",
    "    def flip(self, arr, k):\n",
    "        for i in range((k+1)//2):\n",
    "            arr[i], arr[k-i-1] = arr[k-i-1], arr[i]\n",
    "        \n",
    "    def pancakeSort(self, arr: List[int]) -> List[int]:\n",
    "        end = len(arr) # end_id + 1,从尾到头,把最大的放在最后面。\n",
    "        res = []\n",
    "        while end > 1:\n",
    "            end -= 1\n",
    "            max_id = 0\n",
    "            max_val = arr[0]\n",
    "            change_times = 0 # 记录最大值变更了多少次，用于对已经是顺序的数组，进行early stop\n",
    "            for i in range(end + 1):\n",
    "                if arr[i] > max_val:\n",
    "                    max_val = arr[i]\n",
    "                    max_id = i\n",
    "                    change_times += 1\n",
    "            if change_times == end + 1: # 对已经是顺序的数组，进行early stop\n",
    "                break\n",
    "            if max_id == end:\n",
    "                continue\n",
    "            self.flip(arr, max_id + 1)\n",
    "            self.flip(arr, end + 1)\n",
    "            res.extend([max_id + 1, end + 1])\n",
    "        return res"
   ]
  },
  {
   "cell_type": "code",
   "execution_count": 3,
   "metadata": {},
   "outputs": [
    {
     "name": "stdout",
     "output_type": "stream",
     "text": [
      "2\n"
     ]
    }
   ],
   "source": [
    "# Google interview\n",
    "# nums with the length n, all the numbers are in [0, n-1]\n",
    "def SwapInPlace(nums):\n",
    "    for i in range(len(nums)):\n",
    "        while nums[i] != i:\n",
    "            next_id = nums[i]\n",
    "            if nums[next_id] == next_id:\n",
    "                return next_id\n",
    "            nums[i], nums[next_id] = nums[next_id], next_id\n",
    "    return -1\n",
    "\n",
    "nums = [2,4,1,5,7,6,1,9,0,2]\n",
    "print(SwapInPlace(nums))         "
   ]
  },
  {
   "cell_type": "code",
   "execution_count": null,
   "metadata": {},
   "outputs": [],
   "source": [
    "# 164 桶排序\n",
    "class Solution:\n",
    "    def maximumGap(self, nums: List[int]) -> int:\n",
    "        min_val = min(nums)\n",
    "        max_val = max(nums)\n",
    "        if len(nums) == 1 or max_val == min_val:\n",
    "            return 0\n",
    "        bucket_dist = int((max_val - min_val) / (len(nums) - 1)) # 最大间距的最小可能值，其实需要向上取整\n",
    "        if bucket_dist == 0:\n",
    "            bucket_dist = 1\n",
    "        buckets = {}\n",
    "        max_gap = 0\n",
    "        for num in nums:\n",
    "            bucket_id = num // bucket_dist\n",
    "            if bucket_id in buckets:\n",
    "                # 每个桶只需要保存两个值即可：当前桶内的最大值和当前桶内的最小值\n",
    "                buckets[bucket_id] = [min(buckets[bucket_id][0], num), max(buckets[bucket_id][1], num)]\n",
    "            else:\n",
    "                buckets[bucket_id] = [num, num]\n",
    "        last_max = -1\n",
    "        for bucket_id in range(min_val // bucket_dist, max_val // bucket_dist + 1):\n",
    "            if bucket_id in buckets:\n",
    "                if last_max > -1:\n",
    "                    # 用下一个桶的最小值，减去当前桶的最大值，就是落在这两个桶里的相邻两个数之间的间距\n",
    "                    max_gap = max(max_gap, buckets[bucket_id][0] - last_max)\n",
    "                last_max = buckets[bucket_id][1]\n",
    "        return max_gap"
   ]
  },
  {
   "cell_type": "markdown",
   "metadata": {},
   "source": [
    "# 我的总结\n",
    "\n",
    "python中sort的使用方式，有两种`sorted()`, `list.sort()`\n",
    "- `sorted(list, func)`：返回值是排序后的list，使用func可以自定义；方式是，传入两个待比较的元素 x, y，\n",
    "    - 如果 x 应该排在 y 的前面，返回 -1，\n",
    "    - 如果 x 应该排在 y 的后面，返回 1。\n",
    "    - 如果 x 和 y 相等，返回 0。（应该是为了保持稳定性）\n",
    "    \n",
    "-  `list.sort(cmp=none, key=none, reverse=none)` (python2), `list.sort(key=none, reverse=none)`(python3). 其中,`cmp`是可自定义的比较函数。在python3中，可以通过以下方法自定义比较函数\n",
    "\n",
    "- 排序算法在实现的时候，有很多细节需要注意。\n",
    "    - 快排：先增加index，再交换。否则，当退出循环的时候，index会比预期的多1\n",
    "    \n",
    "- 重新实现排序规则！是一个很好用的解题方法。参考例题937，179\n",
    "\n",
    "- 桶排序可以在某种程度上把排序从nlogn的复杂度降低到线性的。\n",
    "    - 有时候，tricky的地方在于如何设计桶。参考例题164，220\n",
    "    \n",
    "- 对于摆动排序这样的问题，突破点常常在按着什么样的下标规律插入数据。参考例题324， 767"
   ]
  },
  {
   "cell_type": "code",
   "execution_count": 4,
   "metadata": {},
   "outputs": [
    {
     "name": "stdout",
     "output_type": "stream",
     "text": [
      "[('bs', 3), ('cs', 4), ('a', 5)]\n"
     ]
    }
   ],
   "source": [
    "import functools\n",
    "\n",
    "my_list = [('a', 5), ('bs', 3), ('cs', 4)]\n",
    "def cmp(x, y):\n",
    "    if x[1] < y[1]:\n",
    "        return -1\n",
    "    if x[1] > y[1]:\n",
    "        return 1\n",
    "    return 0\n",
    "\n",
    "my_list.sort(key=functools.cmp_to_key(cmp))\n",
    "print(my_list)"
   ]
  },
  {
   "cell_type": "markdown",
   "metadata": {},
   "source": [
    "# 现实中的应用"
   ]
  }
 ],
 "metadata": {
  "kernelspec": {
   "display_name": "Python 3",
   "language": "python",
   "name": "python3"
  },
  "language_info": {
   "codemirror_mode": {
    "name": "ipython",
    "version": 3
   },
   "file_extension": ".py",
   "mimetype": "text/x-python",
   "name": "python",
   "nbconvert_exporter": "python",
   "pygments_lexer": "ipython3",
   "version": "3.8.3"
  }
 },
 "nbformat": 4,
 "nbformat_minor": 4
}
