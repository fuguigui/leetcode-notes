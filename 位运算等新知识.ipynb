{
 "cells": [
  {
   "cell_type": "markdown",
   "metadata": {},
   "source": [
    "# 大纲\n",
    "\n",
    "- [X] 位运算的基础问题\n",
    "    - 判断第i位是否为1: `(num >> i) & 1`\n",
    "    - 将第i位设置为1: `num |= 1 << i`\n",
    "    - 使用异或将第i位设置为0: `num ^= 1 << i`"
   ]
  },
  {
   "cell_type": "code",
   "execution_count": 9,
   "metadata": {},
   "outputs": [
    {
     "name": "stdout",
     "output_type": "stream",
     "text": [
      "0 0 0b0\n",
      "0 1 0b0\n",
      "0 2 0b0\n",
      "1 0 0b1\n",
      "0 1 0b1\n",
      "0 2 0b1\n",
      "0 0 0b10\n",
      "1 1 0b10\n",
      "0 2 0b10\n",
      "1 0 0b11\n",
      "1 1 0b11\n",
      "0 2 0b11\n",
      "0 0 0b100\n",
      "0 1 0b100\n",
      "1 2 0b100\n",
      "1 0 0b101\n",
      "0 1 0b101\n",
      "1 2 0b101\n",
      "0 0 0b110\n",
      "1 1 0b110\n",
      "1 2 0b110\n",
      "1 0 0b111\n",
      "1 1 0b111\n",
      "1 2 0b111\n",
      "0 0 0b1000\n",
      "0 1 0b1000\n",
      "0 2 0b1000\n",
      "1 0 0b1001\n",
      "0 1 0b1001\n",
      "0 2 0b1001\n"
     ]
    }
   ],
   "source": [
    "# 判断第i位是否为1\n",
    "for num in range(10):\n",
    "    for k in range(3):\n",
    "        print((num >> k) & 1, k, bin(num))"
   ]
  },
  {
   "cell_type": "code",
   "execution_count": 12,
   "metadata": {},
   "outputs": [
    {
     "name": "stdout",
     "output_type": "stream",
     "text": [
      "Original number:  0b0\n",
      "setting: 0 as 1: 0b1\n",
      "setting: 0 as 0: 0b0\n",
      "setting: 1 as 1: 0b10\n",
      "setting: 1 as 0: 0b0\n",
      "setting: 4 as 1: 0b10000\n",
      "setting: 4 as 0: 0b0\n",
      "setting: 6 as 1: 0b1000000\n",
      "setting: 6 as 0: 0b0\n",
      "Original number:  0b10\n",
      "setting: 0 as 1: 0b11\n",
      "setting: 0 as 0: 0b10\n",
      "setting: 1 as 1: 0b10\n",
      "setting: 1 as 0: 0b0\n",
      "setting: 4 as 1: 0b10010\n",
      "setting: 4 as 0: 0b10\n",
      "setting: 6 as 1: 0b1000010\n",
      "setting: 6 as 0: 0b10\n",
      "Original number:  0b100\n",
      "setting: 0 as 1: 0b101\n",
      "setting: 0 as 0: 0b100\n",
      "setting: 1 as 1: 0b110\n",
      "setting: 1 as 0: 0b100\n",
      "setting: 4 as 1: 0b10100\n",
      "setting: 4 as 0: 0b100\n",
      "setting: 6 as 1: 0b1000100\n",
      "setting: 6 as 0: 0b100\n"
     ]
    }
   ],
   "source": [
    "# 将第i（从右边开始计数，第一位下标位0）位置为1，使用异或将第i位设置为0\n",
    "for used in [0,2,4]:\n",
    "    print(\"Original number: \", bin(used))\n",
    "    for i in [0,1,4,6]:\n",
    "        new_used = used | 1 << i\n",
    "        print(\"setting: {} as 1: {}\".format(i, bin(new_used)))\n",
    "        new_used = new_used ^ 1 << i\n",
    "        print(\"setting: {} as 0: {}\".format(i, bin(new_used)))"
   ]
  },
  {
   "cell_type": "markdown",
   "metadata": {},
   "source": [
    "# Leetcode例题\n",
    "\n",
    "## 异或的特性\n",
    "\n",
    "\n",
    "- [(easy)693 Binary Number With Alternating Bits](https://leetcode.cn/problems/binary-number-with-alternating-bits)\n",
    "- [(easy)461 Hamming Distance](https://leetcode.cn/problems/hamming-distance)\n",
    "- [(easy)190 Reserve Bits](https://leetcode.cn/problems/reverse-bits)\n",
    "- [(medium)78 Subsets](https://leetcode.cn/problems/subsets)\n",
    "- [(easy)136 Single Number](https://leetcode.cn/problems/single-number)\n",
    "- [(medium)137 Single Number II](https://leetcode.cn/problems/single-number-ii)\n",
    "- [(medium)260 Single Number III](https://leetcode.cn/problems/single-number-iii)\n",
    "- [(medium)201 Bitwise and of Numbers Range](https://leetcode.cn/problems/bitwise-and-of-numbers-range)\n",
    "- [(easy)342 Power of Four](https://leetcode.cn/problems/power-of-four)\n",
    "- [(medium)318 Maximum Product of Word Lengths](https://leetcode.cn/problems/maximum-product-of-word-lengths)\n",
    "- [(medium)338 Counting Bits](https://leetcode.cn/problems/counting-bits)\n",
    "- [(medium)421 Maximum XOR of Two Numbers in an Array](https://leetcode.cn/problems/maximum-xor-of-two-numbers-in-an-array)\n",
    "- [(easy)268 Missing Number](https://leetcode.cn/problems/missing-number)\n",
    "- [(easy)476 Number Complement](https://leetcode.cn/problems/number-complement)\n"
   ]
  },
  {
   "cell_type": "markdown",
   "metadata": {},
   "source": [
    "# 总结\n",
    "\n",
    "异或的特性。第 136 题，第 268 题，第 389 题，第 421 题，\n",
    "\n",
    "构造特殊 Mask，将特殊位置放 0 或 1。\n",
    "\n",
    "\n",
    "有特殊意义的 & 位操作运算。第 260 题，第 201 题，第 318 题，第 371 题，第 397 题，第 461 题，第 693 题，"
   ]
  }
 ],
 "metadata": {
  "kernelspec": {
   "display_name": "Python 3",
   "language": "python",
   "name": "python3"
  },
  "language_info": {
   "codemirror_mode": {
    "name": "ipython",
    "version": 3
   },
   "file_extension": ".py",
   "mimetype": "text/x-python",
   "name": "python",
   "nbconvert_exporter": "python",
   "pygments_lexer": "ipython3",
   "version": "3.8.3"
  }
 },
 "nbformat": 4,
 "nbformat_minor": 4
}
